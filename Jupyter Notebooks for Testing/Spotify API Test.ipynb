{
 "cells": [
  {
   "cell_type": "code",
   "execution_count": 1,
   "metadata": {},
   "outputs": [],
   "source": [
    "import base64\n",
    "import requests\n",
    "from urllib.parse import urlencode"
   ]
  },
  {
   "cell_type": "code",
   "execution_count": 2,
   "metadata": {},
   "outputs": [],
   "source": [
    "client_id = ''\n",
    "client_secret = ''"
   ]
  },
  {
   "cell_type": "code",
   "execution_count": 3,
   "metadata": {},
   "outputs": [],
   "source": [
    "class SpotifySearchResultItem():\n",
    "    \n",
    "    def __init__(self, name, weblink, image={}):\n",
    "        self.name = name\n",
    "        self.weblink = weblink\n",
    "        self.image = image \n",
    "    \n",
    "    def __str__(self):\n",
    "        return str(self.__dict__)\n",
    "\n",
    "class Track(SpotifySearchResultItem):\n",
    "\n",
    "    def __init__(self, name, weblink, image, artist, album, release_date):\n",
    "        super().__init__(name, weblink, image)\n",
    "        self.artist = artist\n",
    "        self.album = album\n",
    "        self.release_date = release_date\n",
    "\n",
    "class Album(SpotifySearchResultItem):\n",
    "\n",
    "    def __init__(self, name, weblink, image, artist, release_date):\n",
    "        super().__init__(name, weblink, image)\n",
    "        self.artist = artist\n",
    "        self.release_date = release_date\n",
    "\n",
    "class Artist(SpotifySearchResultItem):\n",
    "\n",
    "    def __init__(self, name, weblink, image, genres, followers):\n",
    "        super().__init__(name, weblink, image)\n",
    "        self.genres = genres\n",
    "        self.followers = followers\n"
   ]
  },
  {
   "cell_type": "code",
   "execution_count": 4,
   "metadata": {},
   "outputs": [
    {
     "name": "stdout",
     "output_type": "stream",
     "text": [
      "{'height': 640, 'url': 'https://i.scdn.co/image/ab67616d0000b273d0cbdb71222a11eabce96a70', 'width': 640}\n",
      "Faith\n",
      "200405\n",
      "{'name': 'ODIE', 'weblink': 'google.com', 'image': {'h': 800}, 'genres': ['rap', 'hip-hop'], 'followers': 200405}\n"
     ]
    }
   ],
   "source": [
    "a = Album('Analogue', 'https://open.spotify.com/album/1SgtXskC74No0x9a9iDlfw', {'height': 640, 'url': 'https://i.scdn.co/image/ab67616d0000b273d0cbdb71222a11eabce96a70', 'width': 640}, \n",
    "         'ODIE', '2019')\n",
    "print(a.image)\n",
    "\n",
    "b = Track('Faith', 'google.com', {'h':800}, 'ODIE', 'Analogue', '2019')\n",
    "print(b.name)\n",
    "\n",
    "c=Artist('ODIE', 'google.com', {'h':800}, ['rap', 'hip-hop'], 200405 )\n",
    "print(c.followers)\n",
    "\n",
    "print(c)"
   ]
  },
  {
   "cell_type": "code",
   "execution_count": 5,
   "metadata": {},
   "outputs": [],
   "source": [
    "class SpotifyAPI():\n",
    "    client_id = None\n",
    "    client_secret = None\n",
    "    access_token = None\n",
    "    \n",
    "    def __init__(self, client_id, client_secret):\n",
    "        self.client_id = client_id\n",
    "        self.client_secret = client_secret\n",
    "    \n",
    "    def get_client_credentials(self):\n",
    "        client_id = self.client_id\n",
    "        client_secret = self.client_secret\n",
    "        client_creds = f'{client_id}:{client_secret}'\n",
    "        client_creds_b64 = base64.b64encode(client_creds.encode())\n",
    "        return client_creds_b64.decode()\n",
    "    \n",
    "    def get_token_header(self):\n",
    "        client_creds_b64 = self.get_client_credentials()\n",
    "        return {'Authorization': f'Basic {client_creds_b64}'}\n",
    "    \n",
    "    def get_token_data(self):\n",
    "        return {'grant_type':'client_credentials'}\n",
    "    \n",
    "    def perform_auth(self):\n",
    "        token_url = 'https://accounts.spotify.com/api/token'\n",
    "        token_data = self.get_token_data()\n",
    "        token_header = self.get_token_header()\n",
    "        r = requests.post(token_url, data=token_data, headers=token_header)\n",
    "        if r.status_code in range(200, 299):\n",
    "            token_response_data = r.json()\n",
    "            self.access_token = token_response_data['access_token']\n",
    "            print(\"success\")\n",
    "    \n",
    "    def get_resource_header(self):\n",
    "        headers = {\n",
    "            \"Authorization\": f\"Bearer {self.access_token}\"\n",
    "        }\n",
    "        return headers\n",
    "    \n",
    "    def get_artist_data(self, artist):\n",
    "        try:\n",
    "            name = artist['name']\n",
    "            weblink = artist['external_urls']['spotify']\n",
    "            image = artist['images'][0]\n",
    "            genres = artist['genres']\n",
    "            followers = artist['followers']['total']\n",
    "            artist_data = Artist(name, weblink, image, genres, followers)\n",
    "        except:\n",
    "            return False\n",
    "        return artist_data \n",
    "    \n",
    "    def get_artists(self, data):\n",
    "        artists_search_result = []\n",
    "        for artist in data['artists']['items']:\n",
    "            artist_data = self.get_artist_data(artist)\n",
    "            if artist_data == False:\n",
    "                continue\n",
    "            else:\n",
    "                artists_search_result.append(artist_data)\n",
    "        return artists_search_result\n",
    "    \n",
    "    def get_album_data(self, album):\n",
    "        try:\n",
    "            name = album['name']\n",
    "            artist = album['artists'][0]['name']\n",
    "            weblink = album['external_urls']['spotify']\n",
    "            image = album['images'][0]\n",
    "            release_date = album['release_date']\n",
    "            album_data = Album(name, weblink, image, artist, release_date)\n",
    "        except:\n",
    "            return False\n",
    "        return album_data\n",
    "    \n",
    "    def get_albums(self, data):\n",
    "        albums_search_result = []\n",
    "        for album in data['albums']['items']:\n",
    "            album_data = self.get_album_data(album)\n",
    "            if album_data == False:\n",
    "                continue\n",
    "            else: \n",
    "                albums_search_result.append(album_data)\n",
    "        return albums_search_result\n",
    "        \n",
    "    def get_track_data(self, track):\n",
    "        try:\n",
    "            name = track['name']\n",
    "            artist = track['artists'][0]['name']\n",
    "            weblink = track['external_urls']['spotify']\n",
    "            image = track['album']['images'][0]\n",
    "            album = track['album']['name']\n",
    "            release_date = track['album']['release_date']\n",
    "            track_data = Track(name, weblink, image, artist, album, release_date)\n",
    "        except:\n",
    "            return False\n",
    "        return track_data\n",
    "\n",
    "    def get_tracks(self, data):\n",
    "        tracks_search_result = []\n",
    "        for track in data['tracks']['items']:\n",
    "            track_data = self.get_track_data(track)\n",
    "            if track_data == False:\n",
    "                continue\n",
    "            else:\n",
    "                tracks_search_result.append(track_data)\n",
    "        return tracks_search_result\n",
    "    \n",
    "    def base_search(self, query, search_type):\n",
    "        headers = self.get_resource_header()\n",
    "        query = \" \".join([f\"{k}:{v}\" for k,v in query.items()])\n",
    "        endpoint = 'https://api.spotify.com/v1/search'\n",
    "        query_params = urlencode({\"q\": query, \"type\": search_type.lower()})\n",
    "        lookup_url = f'{endpoint}?{query_params}'\n",
    "        r = requests.get(lookup_url, headers=headers)\n",
    "        return r.json()\n",
    "    \n",
    "    def search(self, query, search_type):\n",
    "        search_type = search_type.lower()\n",
    "        data = self.base_search(query, search_type)\n",
    "        if search_type == 'artist':\n",
    "            search_result = self.get_artists(data)\n",
    "        elif search_type == 'album':\n",
    "            search_result = self.get_albums(data)\n",
    "        else:\n",
    "            search_result = self.get_tracks(data)\n",
    "        # print(search_result)\n",
    "        return search_result\n",
    "        \n",
    "        "
   ]
  },
  {
   "cell_type": "code",
   "execution_count": 6,
   "metadata": {},
   "outputs": [],
   "source": [
    "spotify = SpotifyAPI(client_id, client_secret)"
   ]
  },
  {
   "cell_type": "code",
   "execution_count": 7,
   "metadata": {},
   "outputs": [
    {
     "name": "stdout",
     "output_type": "stream",
     "text": [
      "success\n"
     ]
    }
   ],
   "source": [
    "spotify.perform_auth()"
   ]
  },
  {
   "cell_type": "code",
   "execution_count": 11,
   "metadata": {},
   "outputs": [
    {
     "name": "stdout",
     "output_type": "stream",
     "text": [
      "{'name': 'ODIE', 'weblink': 'https://open.spotify.com/artist/5aMIbwZQvP2MHPMVC5zCGj', 'image': {'height': 640, 'url': 'https://i.scdn.co/image/a21c20c30b55b31aff3f6aa84a6e7156f25363e7', 'width': 640}, 'genres': ['alternative r&b', 'indie r&b', 'trap soul'], 'followers': 97142}\n",
      "\n",
      "{'name': 'Callie Odie', 'weblink': 'https://open.spotify.com/artist/1XZRepVs1NXhC3ITI79j7m', 'image': {'height': 640, 'url': 'https://i.scdn.co/image/ab67616d0000b273e41891392874de04512aefa5', 'width': 640}, 'genres': [], 'followers': 0}\n",
      "\n",
      "{'name': 'Odie Ray', 'weblink': 'https://open.spotify.com/artist/5u7TFvIcykj1uOylQZmbhA', 'image': {'height': 640, 'url': 'https://i.scdn.co/image/ce829db43b794e3233582c05cf62581b7c1b2cea', 'width': 640}, 'genres': [], 'followers': 42}\n",
      "\n",
      "{'name': 'Odiemagee', 'weblink': 'https://open.spotify.com/artist/47EdZXpOvhXQ6S8ZasUAtr', 'image': {'height': 640, 'url': 'https://i.scdn.co/image/b7d67dbb45b4b4158763762e7e473ecc22f19760', 'width': 640}, 'genres': [], 'followers': 24}\n",
      "\n",
      "{'name': 'Odie Maddox', 'weblink': 'https://open.spotify.com/artist/18NBNlPVviqCFDrkEtRqBs', 'image': {'height': 640, 'url': 'https://i.scdn.co/image/02a45d50bffe1d9bb9a4930c30d06a675456a013', 'width': 640}, 'genres': [], 'followers': 119}\n",
      "\n",
      "{'name': 'OdieDaGoat', 'weblink': 'https://open.spotify.com/artist/0K4Y7iF6nhE3SgaKkWbyyG', 'image': {'height': 640, 'url': 'https://i.scdn.co/image/ab67616d0000b273fef83b768d364c679b18e116', 'width': 640}, 'genres': [], 'followers': 4}\n",
      "\n",
      "{'name': 'Odie', 'weblink': 'https://open.spotify.com/artist/1MQKu3TbTXmVkZquWmFUjZ', 'image': {'height': 640, 'url': 'https://i.scdn.co/image/7d702ea635584adb7664eb504c32128fa9d340f6', 'width': 640}, 'genres': [], 'followers': 2}\n",
      "\n",
      "{'name': 'Odiens', 'weblink': 'https://open.spotify.com/artist/2R87AkS3B8jKjjINjmmLAB', 'image': {'height': 640, 'url': 'https://i.scdn.co/image/ab67616d0000b2730b650f18f828c99c22aee954', 'width': 640}, 'genres': [], 'followers': 98}\n",
      "\n",
      "{'name': 'Odie', 'weblink': 'https://open.spotify.com/artist/2SvkWs1xbaAtBRJrjnthiK', 'image': {'height': 640, 'url': 'https://i.scdn.co/image/ab67616d0000b273a53dd5573e5ac15b4218c20b', 'width': 640}, 'genres': [], 'followers': 5}\n",
      "\n",
      "{'name': 'Odiee', 'weblink': 'https://open.spotify.com/artist/3ICPpaiuGwywSfq0DVDHc0', 'image': {'height': 640, 'url': 'https://i.scdn.co/image/8704be8cfabd5bb7cbb6b703da06f66fab4e73a1', 'width': 640}, 'genres': [], 'followers': 11}\n",
      "\n",
      "{'name': 'Odieguino', 'weblink': 'https://open.spotify.com/artist/4COiVRwOzeN9Eg8tIztrLC', 'image': {'height': 640, 'url': 'https://i.scdn.co/image/ab67616d0000b273e284d28a29bbccace2b54ee8', 'width': 640}, 'genres': [], 'followers': 15}\n",
      "\n",
      "{'name': 'OdieBandz', 'weblink': 'https://open.spotify.com/artist/4W2qVgyHUQ1mYtT4mzR0xj', 'image': {'height': 640, 'url': 'https://i.scdn.co/image/ab67616d0000b27350573f54c09bac09724b92d1', 'width': 640}, 'genres': [], 'followers': 0}\n",
      "\n",
      "{'name': 'Odie', 'weblink': 'https://open.spotify.com/artist/502tXduFj0qXnnfdCGK7kO', 'image': {'height': 640, 'url': 'https://i.scdn.co/image/ab67616d0000b273db95ca425b0f80722e86364b', 'width': 640}, 'genres': [], 'followers': 25}\n",
      "\n"
     ]
    }
   ],
   "source": [
    "artists = spotify.search({'artist': 'ODIE'}, 'artist')\n",
    "for artist in artists:\n",
    "    print(artist)\n",
    "    print()"
   ]
  },
  {
   "cell_type": "code",
   "execution_count": 12,
   "metadata": {},
   "outputs": [
    {
     "name": "stdout",
     "output_type": "stream",
     "text": [
      "{'name': 'Analogue', 'weblink': 'https://open.spotify.com/album/1SgtXskC74No0x9a9iDlfw', 'image': {'height': 640, 'url': 'https://i.scdn.co/image/ab67616d0000b273d0cbdb71222a11eabce96a70', 'width': 640}, 'artist': 'ODIE', 'release_date': '2018-04-06'}\n",
      "\n"
     ]
    }
   ],
   "source": [
    "albums =spotify.search({'artist': 'ODIE', 'album':'Analogue'}, 'album')\n",
    "for album in albums:\n",
    "    print(album)\n",
    "    print()"
   ]
  },
  {
   "cell_type": "code",
   "execution_count": 13,
   "metadata": {},
   "outputs": [
    {
     "name": "stdout",
     "output_type": "stream",
     "text": [
      "{'name': 'Faith', 'weblink': 'https://open.spotify.com/track/3arxPA32v1n0iWnOAHEBM3', 'image': {'height': 640, 'url': 'https://i.scdn.co/image/ab67616d0000b273d0cbdb71222a11eabce96a70', 'width': 640}, 'artist': 'ODIE', 'album': 'Analogue', 'release_date': '2018-04-06'}\n",
      "\n"
     ]
    }
   ],
   "source": [
    "tracks = spotify.search({'artist': 'ODIE', 'album':'Analogue', 'track': 'Faith'}, 'track')\n",
    "for track in tracks:\n",
    "    print(track)\n",
    "    print()"
   ]
  },
  {
   "cell_type": "code",
   "execution_count": null,
   "metadata": {},
   "outputs": [],
   "source": []
  }
 ],
 "metadata": {
  "kernelspec": {
   "display_name": "Python 3",
   "language": "python",
   "name": "python3"
  },
  "language_info": {
   "codemirror_mode": {
    "name": "ipython",
    "version": 3
   },
   "file_extension": ".py",
   "mimetype": "text/x-python",
   "name": "python",
   "nbconvert_exporter": "python",
   "pygments_lexer": "ipython3",
   "version": "3.7.7"
  }
 },
 "nbformat": 4,
 "nbformat_minor": 4
}
