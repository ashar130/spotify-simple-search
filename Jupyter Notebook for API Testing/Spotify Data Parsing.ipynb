{
 "cells": [
  {
   "cell_type": "code",
   "execution_count": 1,
   "metadata": {},
   "outputs": [],
   "source": [
    "import base64\n",
    "import requests\n",
    "from urllib.parse import urlencode"
   ]
  },
  {
   "cell_type": "code",
   "execution_count": 2,
   "metadata": {},
   "outputs": [],
   "source": [
    "client_id = ''\n",
    "client_secret = ''"
   ]
  },
  {
   "cell_type": "code",
   "execution_count": 3,
   "metadata": {},
   "outputs": [],
   "source": [
    "client_creds = f'{client_id}:{client_secret}'\n",
    "client_creds_b64 = base64.b64encode(client_creds.encode())"
   ]
  },
  {
   "cell_type": "code",
   "execution_count": 4,
   "metadata": {},
   "outputs": [],
   "source": [
    "token_url = 'https://accounts.spotify.com/api/token'\n",
    "token_data = {'grant_type':'client_credentials'}\n",
    "token_headers = {'Authorization': f'Basic {client_creds_b64.decode()}'}"
   ]
  },
  {
   "cell_type": "code",
   "execution_count": 5,
   "metadata": {},
   "outputs": [
    {
     "name": "stdout",
     "output_type": "stream",
     "text": [
      "{'access_token': 'BQAJRbpfRr6I2UbCmIxyyuuRWKudyhdqg07huf8yqUKT9AulN7dEiFy2aFiRzltsvc3IWaeNEk-gYGiNYps', 'token_type': 'Bearer', 'expires_in': 3600, 'scope': ''}\n"
     ]
    }
   ],
   "source": [
    "r = requests.post(token_url, data=token_data, headers=token_headers)\n",
    "print(r.json())\n",
    "valid_request = r.status_code in range(200, 299)"
   ]
  },
  {
   "cell_type": "code",
   "execution_count": 6,
   "metadata": {},
   "outputs": [],
   "source": [
    "if valid_request:\n",
    "    token_response_data = r.json()\n",
    "    access_token = token_response_data['access_token']"
   ]
  },
  {
   "cell_type": "markdown",
   "metadata": {},
   "source": [
    "<h1> Track </h1>"
   ]
  },
  {
   "cell_type": "code",
   "execution_count": 7,
   "metadata": {},
   "outputs": [],
   "source": [
    "query = {'artist': 'ODIE', 'album':'Analogue', 'track': 'Faith'}\n",
    "search_type = 'track'"
   ]
  },
  {
   "cell_type": "code",
   "execution_count": 8,
   "metadata": {},
   "outputs": [
    {
     "name": "stdout",
     "output_type": "stream",
     "text": [
      "artist:ODIE album:Analogue track:Faith\n"
     ]
    }
   ],
   "source": [
    "query = \" \".join([f\"{k}:{v}\" for k,v in query.items()])\n",
    "print(query)"
   ]
  },
  {
   "cell_type": "code",
   "execution_count": 9,
   "metadata": {},
   "outputs": [
    {
     "name": "stdout",
     "output_type": "stream",
     "text": [
      "q=artist%3AODIE+album%3AAnalogue+track%3AFaith&type=track\n",
      "200\n"
     ]
    }
   ],
   "source": [
    "headers = {\n",
    "    'Authorization': f'Bearer {access_token}'\n",
    "}\n",
    "endpoint = 'https://api.spotify.com/v1/search'\n",
    "query_params = urlencode({\"q\": query, \"type\": search_type.lower()})\n",
    "print(query_params)\n",
    "lookup_url = f'{endpoint}?{query_params}'\n",
    "r = requests.get(lookup_url, headers=headers)\n",
    "print(r.status_code)"
   ]
  },
  {
   "cell_type": "code",
   "execution_count": 10,
   "metadata": {},
   "outputs": [
    {
     "data": {
      "text/plain": [
       "dict_keys(['tracks'])"
      ]
     },
     "execution_count": 10,
     "metadata": {},
     "output_type": "execute_result"
    }
   ],
   "source": [
    "data = r.json()\n",
    "r.json().keys()"
   ]
  },
  {
   "cell_type": "code",
   "execution_count": 11,
   "metadata": {},
   "outputs": [
    {
     "data": {
      "text/plain": [
       "dict_keys(['href', 'items', 'limit', 'next', 'offset', 'previous', 'total'])"
      ]
     },
     "execution_count": 11,
     "metadata": {},
     "output_type": "execute_result"
    }
   ],
   "source": [
    "data['tracks'].keys()"
   ]
  },
  {
   "cell_type": "code",
   "execution_count": 13,
   "metadata": {},
   "outputs": [
    {
     "name": "stdout",
     "output_type": "stream",
     "text": [
      "dict_keys(['album', 'artists', 'available_markets', 'disc_number', 'duration_ms', 'explicit', 'external_ids', 'external_urls', 'href', 'id', 'is_local', 'name', 'popularity', 'preview_url', 'track_number', 'type', 'uri'])\n",
      "\n",
      "Faith\n",
      "\n",
      "ODIE\n",
      "\n",
      "Analogue\n",
      "\n",
      "2018-04-06\n",
      "\n",
      "{'height': 640, 'url': 'https://i.scdn.co/image/ab67616d0000b273d0cbdb71222a11eabce96a70', 'width': 640}\n",
      "\n",
      "https://open.spotify.com/track/3arxPA32v1n0iWnOAHEBM3\n"
     ]
    }
   ],
   "source": [
    "for item in data['tracks']['items']:\n",
    "    print(item.keys())\n",
    "    print()\n",
    "    print(item['name'])\n",
    "    print()\n",
    "    print(item['artists'][0]['name'])\n",
    "    print()\n",
    "    print(item['album']['name'])\n",
    "    print()\n",
    "    print(item['album']['release_date'])\n",
    "    print()\n",
    "    print(item['album']['images'][0])\n",
    "    print()\n",
    "    print(item['external_urls']['spotify'])"
   ]
  }
 ],
 "metadata": {
  "kernelspec": {
   "display_name": "Python 3",
   "language": "python",
   "name": "python3"
  },
  "language_info": {
   "codemirror_mode": {
    "name": "ipython",
    "version": 3
   },
   "file_extension": ".py",
   "mimetype": "text/x-python",
   "name": "python",
   "nbconvert_exporter": "python",
   "pygments_lexer": "ipython3",
   "version": "3.7.7"
  }
 },
 "nbformat": 4,
 "nbformat_minor": 4
}
