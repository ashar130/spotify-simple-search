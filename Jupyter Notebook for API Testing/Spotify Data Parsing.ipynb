{
 "cells": [
  {
   "cell_type": "code",
   "execution_count": 1,
   "metadata": {},
   "outputs": [],
   "source": [
    "import base64\n",
    "import requests\n",
    "from urllib.parse import urlencode"
   ]
  },
  {
   "cell_type": "code",
   "execution_count": 2,
   "metadata": {},
   "outputs": [],
   "source": [
    "client_id = ''\n",
    "client_secret = ''"
   ]
  },
  {
   "cell_type": "code",
   "execution_count": 3,
   "metadata": {},
   "outputs": [],
   "source": [
    "client_creds = f'{client_id}:{client_secret}'\n",
    "client_creds_b64 = base64.b64encode(client_creds.encode())"
   ]
  },
  {
   "cell_type": "code",
   "execution_count": 4,
   "metadata": {},
   "outputs": [],
   "source": [
    "token_url = 'https://accounts.spotify.com/api/token'\n",
    "token_data = {'grant_type':'client_credentials'}\n",
    "token_headers = {'Authorization': f'Basic {client_creds_b64.decode()}'}"
   ]
  },
  {
   "cell_type": "code",
   "execution_count": 5,
   "metadata": {},
   "outputs": [
    {
     "name": "stdout",
     "output_type": "stream",
     "text": [
      "{'access_token': 'BQAJRbpfRr6I2UbCmIxyyuuRWKudyhdqg07huf8yqUKT9AulN7dEiFy2aFiRzltsvc3IWaeNEk-gYGiNYps', 'token_type': 'Bearer', 'expires_in': 3600, 'scope': ''}\n"
     ]
    }
   ],
   "source": [
    "r = requests.post(token_url, data=token_data, headers=token_headers)\n",
    "print(r.json())\n",
    "valid_request = r.status_code in range(200, 299)"
   ]
  },
  {
   "cell_type": "code",
   "execution_count": 6,
   "metadata": {},
   "outputs": [],
   "source": [
    "if valid_request:\n",
    "    token_response_data = r.json()\n",
    "    access_token = token_response_data['access_token']"
   ]
  },
  {
   "cell_type": "markdown",
   "metadata": {},
   "source": [
    "<h1> Track </h1>"
   ]
  },
  {
   "cell_type": "code",
   "execution_count": 7,
   "metadata": {},
   "outputs": [],
   "source": [
    "query = {'artist': 'ODIE', 'album':'Analogue', 'track': 'Faith'}\n",
    "search_type = 'track'"
   ]
  },
  {
   "cell_type": "code",
   "execution_count": 8,
   "metadata": {},
   "outputs": [
    {
     "name": "stdout",
     "output_type": "stream",
     "text": [
      "artist:ODIE album:Analogue track:Faith\n"
     ]
    }
   ],
   "source": [
    "query = \" \".join([f\"{k}:{v}\" for k,v in query.items()])\n",
    "print(query)"
   ]
  },
  {
   "cell_type": "code",
   "execution_count": 9,
   "metadata": {},
   "outputs": [
    {
     "name": "stdout",
     "output_type": "stream",
     "text": [
      "q=artist%3AODIE+album%3AAnalogue+track%3AFaith&type=track\n",
      "200\n"
     ]
    }
   ],
   "source": [
    "headers = {\n",
    "    'Authorization': f'Bearer {access_token}'\n",
    "}\n",
    "endpoint = 'https://api.spotify.com/v1/search'\n",
    "query_params = urlencode({\"q\": query, \"type\": search_type.lower()})\n",
    "print(query_params)\n",
    "lookup_url = f'{endpoint}?{query_params}'\n",
    "r = requests.get(lookup_url, headers=headers)\n",
    "print(r.status_code)"
   ]
  },
  {
   "cell_type": "code",
   "execution_count": 10,
   "metadata": {},
   "outputs": [
    {
     "data": {
      "text/plain": [
       "dict_keys(['tracks'])"
      ]
     },
     "execution_count": 10,
     "metadata": {},
     "output_type": "execute_result"
    }
   ],
   "source": [
    "data = r.json()\n",
    "r.json().keys()"
   ]
  },
  {
   "cell_type": "code",
   "execution_count": 11,
   "metadata": {},
   "outputs": [
    {
     "data": {
      "text/plain": [
       "dict_keys(['href', 'items', 'limit', 'next', 'offset', 'previous', 'total'])"
      ]
     },
     "execution_count": 11,
     "metadata": {},
     "output_type": "execute_result"
    }
   ],
   "source": [
    "data['tracks'].keys()"
   ]
  },
  {
   "cell_type": "code",
   "execution_count": 12,
   "metadata": {},
   "outputs": [
    {
     "data": {
      "text/plain": [
       "[{'album': {'album_type': 'album',\n",
       "   'artists': [{'external_urls': {'spotify': 'https://open.spotify.com/artist/5aMIbwZQvP2MHPMVC5zCGj'},\n",
       "     'href': 'https://api.spotify.com/v1/artists/5aMIbwZQvP2MHPMVC5zCGj',\n",
       "     'id': '5aMIbwZQvP2MHPMVC5zCGj',\n",
       "     'name': 'ODIE',\n",
       "     'type': 'artist',\n",
       "     'uri': 'spotify:artist:5aMIbwZQvP2MHPMVC5zCGj'}],\n",
       "   'available_markets': ['AD',\n",
       "    'AE',\n",
       "    'AR',\n",
       "    'AT',\n",
       "    'AU',\n",
       "    'BE',\n",
       "    'BG',\n",
       "    'BH',\n",
       "    'BO',\n",
       "    'BR',\n",
       "    'CA',\n",
       "    'CH',\n",
       "    'CL',\n",
       "    'CO',\n",
       "    'CR',\n",
       "    'CY',\n",
       "    'CZ',\n",
       "    'DE',\n",
       "    'DK',\n",
       "    'DO',\n",
       "    'DZ',\n",
       "    'EC',\n",
       "    'EE',\n",
       "    'EG',\n",
       "    'ES',\n",
       "    'FI',\n",
       "    'FR',\n",
       "    'GB',\n",
       "    'GR',\n",
       "    'GT',\n",
       "    'HK',\n",
       "    'HN',\n",
       "    'HU',\n",
       "    'ID',\n",
       "    'IE',\n",
       "    'IL',\n",
       "    'IN',\n",
       "    'IS',\n",
       "    'IT',\n",
       "    'JO',\n",
       "    'JP',\n",
       "    'KW',\n",
       "    'LB',\n",
       "    'LI',\n",
       "    'LT',\n",
       "    'LU',\n",
       "    'LV',\n",
       "    'MA',\n",
       "    'MC',\n",
       "    'MT',\n",
       "    'MX',\n",
       "    'MY',\n",
       "    'NI',\n",
       "    'NL',\n",
       "    'NO',\n",
       "    'NZ',\n",
       "    'OM',\n",
       "    'PA',\n",
       "    'PE',\n",
       "    'PH',\n",
       "    'PL',\n",
       "    'PS',\n",
       "    'PT',\n",
       "    'PY',\n",
       "    'QA',\n",
       "    'RO',\n",
       "    'SA',\n",
       "    'SE',\n",
       "    'SG',\n",
       "    'SK',\n",
       "    'SV',\n",
       "    'TH',\n",
       "    'TN',\n",
       "    'TR',\n",
       "    'TW',\n",
       "    'US',\n",
       "    'UY',\n",
       "    'VN',\n",
       "    'ZA'],\n",
       "   'external_urls': {'spotify': 'https://open.spotify.com/album/1SgtXskC74No0x9a9iDlfw'},\n",
       "   'href': 'https://api.spotify.com/v1/albums/1SgtXskC74No0x9a9iDlfw',\n",
       "   'id': '1SgtXskC74No0x9a9iDlfw',\n",
       "   'images': [{'height': 640,\n",
       "     'url': 'https://i.scdn.co/image/ab67616d0000b273d0cbdb71222a11eabce96a70',\n",
       "     'width': 640},\n",
       "    {'height': 300,\n",
       "     'url': 'https://i.scdn.co/image/ab67616d00001e02d0cbdb71222a11eabce96a70',\n",
       "     'width': 300},\n",
       "    {'height': 64,\n",
       "     'url': 'https://i.scdn.co/image/ab67616d00004851d0cbdb71222a11eabce96a70',\n",
       "     'width': 64}],\n",
       "   'name': 'Analogue',\n",
       "   'release_date': '2018-04-06',\n",
       "   'release_date_precision': 'day',\n",
       "   'total_tracks': 10,\n",
       "   'type': 'album',\n",
       "   'uri': 'spotify:album:1SgtXskC74No0x9a9iDlfw'},\n",
       "  'artists': [{'external_urls': {'spotify': 'https://open.spotify.com/artist/5aMIbwZQvP2MHPMVC5zCGj'},\n",
       "    'href': 'https://api.spotify.com/v1/artists/5aMIbwZQvP2MHPMVC5zCGj',\n",
       "    'id': '5aMIbwZQvP2MHPMVC5zCGj',\n",
       "    'name': 'ODIE',\n",
       "    'type': 'artist',\n",
       "    'uri': 'spotify:artist:5aMIbwZQvP2MHPMVC5zCGj'}],\n",
       "  'available_markets': ['AD',\n",
       "   'AE',\n",
       "   'AR',\n",
       "   'AT',\n",
       "   'AU',\n",
       "   'BE',\n",
       "   'BG',\n",
       "   'BH',\n",
       "   'BO',\n",
       "   'BR',\n",
       "   'CA',\n",
       "   'CH',\n",
       "   'CL',\n",
       "   'CO',\n",
       "   'CR',\n",
       "   'CY',\n",
       "   'CZ',\n",
       "   'DE',\n",
       "   'DK',\n",
       "   'DO',\n",
       "   'DZ',\n",
       "   'EC',\n",
       "   'EE',\n",
       "   'EG',\n",
       "   'ES',\n",
       "   'FI',\n",
       "   'FR',\n",
       "   'GB',\n",
       "   'GR',\n",
       "   'GT',\n",
       "   'HK',\n",
       "   'HN',\n",
       "   'HU',\n",
       "   'ID',\n",
       "   'IE',\n",
       "   'IL',\n",
       "   'IN',\n",
       "   'IS',\n",
       "   'IT',\n",
       "   'JO',\n",
       "   'JP',\n",
       "   'KW',\n",
       "   'LB',\n",
       "   'LI',\n",
       "   'LT',\n",
       "   'LU',\n",
       "   'LV',\n",
       "   'MA',\n",
       "   'MC',\n",
       "   'MT',\n",
       "   'MX',\n",
       "   'MY',\n",
       "   'NI',\n",
       "   'NL',\n",
       "   'NO',\n",
       "   'NZ',\n",
       "   'OM',\n",
       "   'PA',\n",
       "   'PE',\n",
       "   'PH',\n",
       "   'PL',\n",
       "   'PS',\n",
       "   'PT',\n",
       "   'PY',\n",
       "   'QA',\n",
       "   'RO',\n",
       "   'SA',\n",
       "   'SE',\n",
       "   'SG',\n",
       "   'SK',\n",
       "   'SV',\n",
       "   'TH',\n",
       "   'TN',\n",
       "   'TR',\n",
       "   'TW',\n",
       "   'US',\n",
       "   'UY',\n",
       "   'VN',\n",
       "   'ZA'],\n",
       "  'disc_number': 1,\n",
       "  'duration_ms': 189999,\n",
       "  'explicit': True,\n",
       "  'external_ids': {'isrc': 'USUYG1181632'},\n",
       "  'external_urls': {'spotify': 'https://open.spotify.com/track/3arxPA32v1n0iWnOAHEBM3'},\n",
       "  'href': 'https://api.spotify.com/v1/tracks/3arxPA32v1n0iWnOAHEBM3',\n",
       "  'id': '3arxPA32v1n0iWnOAHEBM3',\n",
       "  'is_local': False,\n",
       "  'name': 'Faith',\n",
       "  'popularity': 40,\n",
       "  'preview_url': 'https://p.scdn.co/mp3-preview/7b0583aeafa71f09fae266067b2e34930904e354?cid=e78cfb1b052042b3a3e571881794bff6',\n",
       "  'track_number': 4,\n",
       "  'type': 'track',\n",
       "  'uri': 'spotify:track:3arxPA32v1n0iWnOAHEBM3'}]"
      ]
     },
     "execution_count": 12,
     "metadata": {},
     "output_type": "execute_result"
    }
   ],
   "source": [
    "data['tracks']['items']"
   ]
  },
  {
   "cell_type": "code",
   "execution_count": 13,
   "metadata": {},
   "outputs": [
    {
     "name": "stdout",
     "output_type": "stream",
     "text": [
      "dict_keys(['album', 'artists', 'available_markets', 'disc_number', 'duration_ms', 'explicit', 'external_ids', 'external_urls', 'href', 'id', 'is_local', 'name', 'popularity', 'preview_url', 'track_number', 'type', 'uri'])\n",
      "\n",
      "Faith\n",
      "\n",
      "ODIE\n",
      "\n",
      "Analogue\n",
      "\n",
      "2018-04-06\n",
      "\n",
      "{'height': 640, 'url': 'https://i.scdn.co/image/ab67616d0000b273d0cbdb71222a11eabce96a70', 'width': 640}\n",
      "\n",
      "https://open.spotify.com/track/3arxPA32v1n0iWnOAHEBM3\n"
     ]
    }
   ],
   "source": [
    "for item in data['tracks']['items']:\n",
    "    print(item.keys())\n",
    "    print()\n",
    "    print(item['name'])\n",
    "    print()\n",
    "    print(item['artists'][0]['name'])\n",
    "    print()\n",
    "    print(item['album']['name'])\n",
    "    print()\n",
    "    print(item['album']['release_date'])\n",
    "    print()\n",
    "    print(item['album']['images'][0])\n",
    "    print()\n",
    "    print(item['external_urls']['spotify'])"
   ]
  },
  {
   "cell_type": "markdown",
   "metadata": {},
   "source": [
    "<h1> Album </h1>"
   ]
  },
  {
   "cell_type": "code",
   "execution_count": 14,
   "metadata": {},
   "outputs": [],
   "source": [
    "query = {'artist': 'ODIE', 'album':'Analogue'}\n",
    "search_type = 'album'"
   ]
  },
  {
   "cell_type": "code",
   "execution_count": 15,
   "metadata": {},
   "outputs": [],
   "source": [
    "query = \" \".join([f\"{k}:{v}\" for k,v in query.items()])"
   ]
  },
  {
   "cell_type": "code",
   "execution_count": 16,
   "metadata": {},
   "outputs": [
    {
     "name": "stdout",
     "output_type": "stream",
     "text": [
      "artist:ODIE album:Analogue\n"
     ]
    }
   ],
   "source": [
    "print(query)"
   ]
  },
  {
   "cell_type": "code",
   "execution_count": 17,
   "metadata": {},
   "outputs": [
    {
     "name": "stdout",
     "output_type": "stream",
     "text": [
      "q=artist%3AODIE+album%3AAnalogue&type=album\n",
      "200\n"
     ]
    }
   ],
   "source": [
    "headers = {\n",
    "    'Authorization': f'Bearer {access_token}'\n",
    "}\n",
    "endpoint = 'https://api.spotify.com/v1/search'\n",
    "query_params = urlencode({\"q\": query, \"type\": search_type.lower()})\n",
    "print(query_params)\n",
    "lookup_url = f'{endpoint}?{query_params}'\n",
    "r = requests.get(lookup_url, headers=headers)\n",
    "print(r.status_code)"
   ]
  },
  {
   "cell_type": "code",
   "execution_count": 18,
   "metadata": {},
   "outputs": [
    {
     "data": {
      "text/plain": [
       "dict_keys(['albums'])"
      ]
     },
     "execution_count": 18,
     "metadata": {},
     "output_type": "execute_result"
    }
   ],
   "source": [
    "data = r.json()\n",
    "r.json().keys()"
   ]
  },
  {
   "cell_type": "code",
   "execution_count": 19,
   "metadata": {},
   "outputs": [
    {
     "data": {
      "text/plain": [
       "dict_keys(['href', 'items', 'limit', 'next', 'offset', 'previous', 'total'])"
      ]
     },
     "execution_count": 19,
     "metadata": {},
     "output_type": "execute_result"
    }
   ],
   "source": [
    "data['albums'].keys()"
   ]
  },
  {
   "cell_type": "code",
   "execution_count": 20,
   "metadata": {},
   "outputs": [
    {
     "data": {
      "text/plain": [
       "[{'album_type': 'album',\n",
       "  'artists': [{'external_urls': {'spotify': 'https://open.spotify.com/artist/5aMIbwZQvP2MHPMVC5zCGj'},\n",
       "    'href': 'https://api.spotify.com/v1/artists/5aMIbwZQvP2MHPMVC5zCGj',\n",
       "    'id': '5aMIbwZQvP2MHPMVC5zCGj',\n",
       "    'name': 'ODIE',\n",
       "    'type': 'artist',\n",
       "    'uri': 'spotify:artist:5aMIbwZQvP2MHPMVC5zCGj'}],\n",
       "  'available_markets': ['AD',\n",
       "   'AE',\n",
       "   'AR',\n",
       "   'AT',\n",
       "   'AU',\n",
       "   'BE',\n",
       "   'BG',\n",
       "   'BH',\n",
       "   'BO',\n",
       "   'BR',\n",
       "   'CA',\n",
       "   'CH',\n",
       "   'CL',\n",
       "   'CO',\n",
       "   'CR',\n",
       "   'CY',\n",
       "   'CZ',\n",
       "   'DE',\n",
       "   'DK',\n",
       "   'DO',\n",
       "   'DZ',\n",
       "   'EC',\n",
       "   'EE',\n",
       "   'EG',\n",
       "   'ES',\n",
       "   'FI',\n",
       "   'FR',\n",
       "   'GB',\n",
       "   'GR',\n",
       "   'GT',\n",
       "   'HK',\n",
       "   'HN',\n",
       "   'HU',\n",
       "   'ID',\n",
       "   'IE',\n",
       "   'IL',\n",
       "   'IN',\n",
       "   'IS',\n",
       "   'IT',\n",
       "   'JO',\n",
       "   'JP',\n",
       "   'KW',\n",
       "   'LB',\n",
       "   'LI',\n",
       "   'LT',\n",
       "   'LU',\n",
       "   'LV',\n",
       "   'MA',\n",
       "   'MC',\n",
       "   'MT',\n",
       "   'MX',\n",
       "   'MY',\n",
       "   'NI',\n",
       "   'NL',\n",
       "   'NO',\n",
       "   'NZ',\n",
       "   'OM',\n",
       "   'PA',\n",
       "   'PE',\n",
       "   'PH',\n",
       "   'PL',\n",
       "   'PS',\n",
       "   'PT',\n",
       "   'PY',\n",
       "   'QA',\n",
       "   'RO',\n",
       "   'SA',\n",
       "   'SE',\n",
       "   'SG',\n",
       "   'SK',\n",
       "   'SV',\n",
       "   'TH',\n",
       "   'TN',\n",
       "   'TR',\n",
       "   'TW',\n",
       "   'US',\n",
       "   'UY',\n",
       "   'VN',\n",
       "   'ZA'],\n",
       "  'external_urls': {'spotify': 'https://open.spotify.com/album/1SgtXskC74No0x9a9iDlfw'},\n",
       "  'href': 'https://api.spotify.com/v1/albums/1SgtXskC74No0x9a9iDlfw',\n",
       "  'id': '1SgtXskC74No0x9a9iDlfw',\n",
       "  'images': [{'height': 640,\n",
       "    'url': 'https://i.scdn.co/image/ab67616d0000b273d0cbdb71222a11eabce96a70',\n",
       "    'width': 640},\n",
       "   {'height': 300,\n",
       "    'url': 'https://i.scdn.co/image/ab67616d00001e02d0cbdb71222a11eabce96a70',\n",
       "    'width': 300},\n",
       "   {'height': 64,\n",
       "    'url': 'https://i.scdn.co/image/ab67616d00004851d0cbdb71222a11eabce96a70',\n",
       "    'width': 64}],\n",
       "  'name': 'Analogue',\n",
       "  'release_date': '2018-04-06',\n",
       "  'release_date_precision': 'day',\n",
       "  'total_tracks': 10,\n",
       "  'type': 'album',\n",
       "  'uri': 'spotify:album:1SgtXskC74No0x9a9iDlfw'}]"
      ]
     },
     "execution_count": 20,
     "metadata": {},
     "output_type": "execute_result"
    }
   ],
   "source": [
    "data['albums']['items']"
   ]
  },
  {
   "cell_type": "code",
   "execution_count": 21,
   "metadata": {},
   "outputs": [
    {
     "name": "stdout",
     "output_type": "stream",
     "text": [
      "dict_keys(['album_type', 'artists', 'available_markets', 'external_urls', 'href', 'id', 'images', 'name', 'release_date', 'release_date_precision', 'total_tracks', 'type', 'uri'])\n",
      "\n",
      "Analogue\n",
      "\n",
      "ODIE\n",
      "\n",
      "https://open.spotify.com/album/1SgtXskC74No0x9a9iDlfw\n",
      "\n",
      "{'height': 640, 'url': 'https://i.scdn.co/image/ab67616d0000b273d0cbdb71222a11eabce96a70', 'width': 640}\n",
      "\n",
      "2018-04-06\n",
      "\n"
     ]
    }
   ],
   "source": [
    "for item in data['albums']['items']:\n",
    "    print(item.keys())\n",
    "    print()\n",
    "    print(item['name'])\n",
    "    print()\n",
    "    print(item['artists'][0]['name'])\n",
    "    print()\n",
    "    print(item['external_urls']['spotify'])\n",
    "    print()\n",
    "    print(item['images'][0])\n",
    "    print()\n",
    "    print(item['release_date'])\n",
    "    print()"
   ]
  },
  {
   "cell_type": "markdown",
   "metadata": {},
   "source": [
    "<h1> Artist </h1>"
   ]
  },
  {
   "cell_type": "code",
   "execution_count": 32,
   "metadata": {},
   "outputs": [],
   "source": [
    "query = {'artist': 'ODIE'}\n",
    "search_type = 'artist'"
   ]
  },
  {
   "cell_type": "code",
   "execution_count": 33,
   "metadata": {},
   "outputs": [
    {
     "name": "stdout",
     "output_type": "stream",
     "text": [
      "artist:ODIE\n"
     ]
    }
   ],
   "source": [
    "query = \" \".join([f\"{k}:{v}\" for k,v in query.items()])\n",
    "print(query)"
   ]
  },
  {
   "cell_type": "code",
   "execution_count": 34,
   "metadata": {},
   "outputs": [
    {
     "name": "stdout",
     "output_type": "stream",
     "text": [
      "q=artist%3AODIE&type=artist\n",
      "200\n"
     ]
    }
   ],
   "source": [
    "headers = {\n",
    "    'Authorization': f'Bearer {access_token}'\n",
    "}\n",
    "endpoint = 'https://api.spotify.com/v1/search'\n",
    "query_params = urlencode({\"q\": query, \"type\": search_type.lower()})\n",
    "print(query_params)\n",
    "lookup_url = f'{endpoint}?{query_params}'\n",
    "r = requests.get(lookup_url, headers=headers)\n",
    "print(r.status_code)"
   ]
  },
  {
   "cell_type": "code",
   "execution_count": 35,
   "metadata": {},
   "outputs": [
    {
     "data": {
      "text/plain": [
       "dict_keys(['artists'])"
      ]
     },
     "execution_count": 35,
     "metadata": {},
     "output_type": "execute_result"
    }
   ],
   "source": [
    "data = r.json()\n",
    "r.json().keys()"
   ]
  },
  {
   "cell_type": "code",
   "execution_count": 36,
   "metadata": {},
   "outputs": [
    {
     "data": {
      "text/plain": [
       "dict_keys(['href', 'items', 'limit', 'next', 'offset', 'previous', 'total'])"
      ]
     },
     "execution_count": 36,
     "metadata": {},
     "output_type": "execute_result"
    }
   ],
   "source": [
    "data['artists'].keys()"
   ]
  },
  {
   "cell_type": "code",
   "execution_count": 37,
   "metadata": {},
   "outputs": [
    {
     "data": {
      "text/plain": [
       "[{'external_urls': {'spotify': 'https://open.spotify.com/artist/5aMIbwZQvP2MHPMVC5zCGj'},\n",
       "  'followers': {'href': None, 'total': 97142},\n",
       "  'genres': ['alternative r&b', 'indie r&b', 'trap soul'],\n",
       "  'href': 'https://api.spotify.com/v1/artists/5aMIbwZQvP2MHPMVC5zCGj',\n",
       "  'id': '5aMIbwZQvP2MHPMVC5zCGj',\n",
       "  'images': [{'height': 640,\n",
       "    'url': 'https://i.scdn.co/image/a21c20c30b55b31aff3f6aa84a6e7156f25363e7',\n",
       "    'width': 640},\n",
       "   {'height': 320,\n",
       "    'url': 'https://i.scdn.co/image/5eb853d9fee81724eaaf271c71aec47315075a45',\n",
       "    'width': 320},\n",
       "   {'height': 160,\n",
       "    'url': 'https://i.scdn.co/image/1676164c39aafaea56ce7ab62b8e7bab64591d8e',\n",
       "    'width': 160}],\n",
       "  'name': 'ODIE',\n",
       "  'popularity': 64,\n",
       "  'type': 'artist',\n",
       "  'uri': 'spotify:artist:5aMIbwZQvP2MHPMVC5zCGj'},\n",
       " {'external_urls': {'spotify': 'https://open.spotify.com/artist/1XZRepVs1NXhC3ITI79j7m'},\n",
       "  'followers': {'href': None, 'total': 0},\n",
       "  'genres': [],\n",
       "  'href': 'https://api.spotify.com/v1/artists/1XZRepVs1NXhC3ITI79j7m',\n",
       "  'id': '1XZRepVs1NXhC3ITI79j7m',\n",
       "  'images': [{'height': 640,\n",
       "    'url': 'https://i.scdn.co/image/ab67616d0000b273e41891392874de04512aefa5',\n",
       "    'width': 640},\n",
       "   {'height': 300,\n",
       "    'url': 'https://i.scdn.co/image/ab67616d00001e02e41891392874de04512aefa5',\n",
       "    'width': 300},\n",
       "   {'height': 64,\n",
       "    'url': 'https://i.scdn.co/image/ab67616d00004851e41891392874de04512aefa5',\n",
       "    'width': 64}],\n",
       "  'name': 'Callie Odie',\n",
       "  'popularity': 37,\n",
       "  'type': 'artist',\n",
       "  'uri': 'spotify:artist:1XZRepVs1NXhC3ITI79j7m'},\n",
       " {'external_urls': {'spotify': 'https://open.spotify.com/artist/1A9aTffrO3x44CEX13JGIc'},\n",
       "  'followers': {'href': None, 'total': 11},\n",
       "  'genres': [],\n",
       "  'href': 'https://api.spotify.com/v1/artists/1A9aTffrO3x44CEX13JGIc',\n",
       "  'id': '1A9aTffrO3x44CEX13JGIc',\n",
       "  'images': [],\n",
       "  'name': 'Odie Payne, Jr.',\n",
       "  'popularity': 30,\n",
       "  'type': 'artist',\n",
       "  'uri': 'spotify:artist:1A9aTffrO3x44CEX13JGIc'},\n",
       " {'external_urls': {'spotify': 'https://open.spotify.com/artist/4tcSBbry63txTgC08PNmou'},\n",
       "  'followers': {'href': None, 'total': 4},\n",
       "  'genres': [],\n",
       "  'href': 'https://api.spotify.com/v1/artists/4tcSBbry63txTgC08PNmou',\n",
       "  'id': '4tcSBbry63txTgC08PNmou',\n",
       "  'images': [],\n",
       "  'name': 'Odie Payne III',\n",
       "  'popularity': 27,\n",
       "  'type': 'artist',\n",
       "  'uri': 'spotify:artist:4tcSBbry63txTgC08PNmou'},\n",
       " {'external_urls': {'spotify': 'https://open.spotify.com/artist/5u7TFvIcykj1uOylQZmbhA'},\n",
       "  'followers': {'href': None, 'total': 42},\n",
       "  'genres': [],\n",
       "  'href': 'https://api.spotify.com/v1/artists/5u7TFvIcykj1uOylQZmbhA',\n",
       "  'id': '5u7TFvIcykj1uOylQZmbhA',\n",
       "  'images': [{'height': 640,\n",
       "    'url': 'https://i.scdn.co/image/ce829db43b794e3233582c05cf62581b7c1b2cea',\n",
       "    'width': 640},\n",
       "   {'height': 320,\n",
       "    'url': 'https://i.scdn.co/image/a6a321e26b0a7ee8951f08c28b320fe638ac1dda',\n",
       "    'width': 320},\n",
       "   {'height': 160,\n",
       "    'url': 'https://i.scdn.co/image/038919a24b7c386b1c6af3f9baefe82bce20848d',\n",
       "    'width': 160}],\n",
       "  'name': 'Odie Ray',\n",
       "  'popularity': 21,\n",
       "  'type': 'artist',\n",
       "  'uri': 'spotify:artist:5u7TFvIcykj1uOylQZmbhA'},\n",
       " {'external_urls': {'spotify': 'https://open.spotify.com/artist/47EdZXpOvhXQ6S8ZasUAtr'},\n",
       "  'followers': {'href': None, 'total': 24},\n",
       "  'genres': [],\n",
       "  'href': 'https://api.spotify.com/v1/artists/47EdZXpOvhXQ6S8ZasUAtr',\n",
       "  'id': '47EdZXpOvhXQ6S8ZasUAtr',\n",
       "  'images': [{'height': 640,\n",
       "    'url': 'https://i.scdn.co/image/b7d67dbb45b4b4158763762e7e473ecc22f19760',\n",
       "    'width': 640},\n",
       "   {'height': 320,\n",
       "    'url': 'https://i.scdn.co/image/94c58e47e9a04cb5e8399ddd9fd2973e4d5c786e',\n",
       "    'width': 320},\n",
       "   {'height': 160,\n",
       "    'url': 'https://i.scdn.co/image/03792344ed991a043bd8745d1202bfc192f89897',\n",
       "    'width': 160}],\n",
       "  'name': 'Odiemagee',\n",
       "  'popularity': 5,\n",
       "  'type': 'artist',\n",
       "  'uri': 'spotify:artist:47EdZXpOvhXQ6S8ZasUAtr'},\n",
       " {'external_urls': {'spotify': 'https://open.spotify.com/artist/18NBNlPVviqCFDrkEtRqBs'},\n",
       "  'followers': {'href': None, 'total': 119},\n",
       "  'genres': [],\n",
       "  'href': 'https://api.spotify.com/v1/artists/18NBNlPVviqCFDrkEtRqBs',\n",
       "  'id': '18NBNlPVviqCFDrkEtRqBs',\n",
       "  'images': [{'height': 640,\n",
       "    'url': 'https://i.scdn.co/image/02a45d50bffe1d9bb9a4930c30d06a675456a013',\n",
       "    'width': 640},\n",
       "   {'height': 320,\n",
       "    'url': 'https://i.scdn.co/image/c5a3ede4b863174e7d3d745c358fdf7325d203f1',\n",
       "    'width': 320},\n",
       "   {'height': 160,\n",
       "    'url': 'https://i.scdn.co/image/07a88ace22e6441ee19422fe05946039f43c388c',\n",
       "    'width': 160}],\n",
       "  'name': 'Odie Maddox',\n",
       "  'popularity': 5,\n",
       "  'type': 'artist',\n",
       "  'uri': 'spotify:artist:18NBNlPVviqCFDrkEtRqBs'},\n",
       " {'external_urls': {'spotify': 'https://open.spotify.com/artist/2E6ohEvDWtltLSvIpTqWSt'},\n",
       "  'followers': {'href': None, 'total': 4},\n",
       "  'genres': [],\n",
       "  'href': 'https://api.spotify.com/v1/artists/2E6ohEvDWtltLSvIpTqWSt',\n",
       "  'id': '2E6ohEvDWtltLSvIpTqWSt',\n",
       "  'images': [],\n",
       "  'name': 'Odie Billz',\n",
       "  'popularity': 3,\n",
       "  'type': 'artist',\n",
       "  'uri': 'spotify:artist:2E6ohEvDWtltLSvIpTqWSt'},\n",
       " {'external_urls': {'spotify': 'https://open.spotify.com/artist/2wIrceYpezIwnSeTHFciiw'},\n",
       "  'followers': {'href': None, 'total': 4},\n",
       "  'genres': [],\n",
       "  'href': 'https://api.spotify.com/v1/artists/2wIrceYpezIwnSeTHFciiw',\n",
       "  'id': '2wIrceYpezIwnSeTHFciiw',\n",
       "  'images': [],\n",
       "  'name': 'Odie B',\n",
       "  'popularity': 3,\n",
       "  'type': 'artist',\n",
       "  'uri': 'spotify:artist:2wIrceYpezIwnSeTHFciiw'},\n",
       " {'external_urls': {'spotify': 'https://open.spotify.com/artist/0K4Y7iF6nhE3SgaKkWbyyG'},\n",
       "  'followers': {'href': None, 'total': 4},\n",
       "  'genres': [],\n",
       "  'href': 'https://api.spotify.com/v1/artists/0K4Y7iF6nhE3SgaKkWbyyG',\n",
       "  'id': '0K4Y7iF6nhE3SgaKkWbyyG',\n",
       "  'images': [{'height': 640,\n",
       "    'url': 'https://i.scdn.co/image/ab67616d0000b273fef83b768d364c679b18e116',\n",
       "    'width': 640},\n",
       "   {'height': 300,\n",
       "    'url': 'https://i.scdn.co/image/ab67616d00001e02fef83b768d364c679b18e116',\n",
       "    'width': 300},\n",
       "   {'height': 64,\n",
       "    'url': 'https://i.scdn.co/image/ab67616d00004851fef83b768d364c679b18e116',\n",
       "    'width': 64}],\n",
       "  'name': 'OdieDaGoat',\n",
       "  'popularity': 0,\n",
       "  'type': 'artist',\n",
       "  'uri': 'spotify:artist:0K4Y7iF6nhE3SgaKkWbyyG'},\n",
       " {'external_urls': {'spotify': 'https://open.spotify.com/artist/1MQKu3TbTXmVkZquWmFUjZ'},\n",
       "  'followers': {'href': None, 'total': 2},\n",
       "  'genres': [],\n",
       "  'href': 'https://api.spotify.com/v1/artists/1MQKu3TbTXmVkZquWmFUjZ',\n",
       "  'id': '1MQKu3TbTXmVkZquWmFUjZ',\n",
       "  'images': [{'height': 640,\n",
       "    'url': 'https://i.scdn.co/image/7d702ea635584adb7664eb504c32128fa9d340f6',\n",
       "    'width': 640},\n",
       "   {'height': 320,\n",
       "    'url': 'https://i.scdn.co/image/db62b6db4df19021f97d14a6e676cb8e43389429',\n",
       "    'width': 320},\n",
       "   {'height': 160,\n",
       "    'url': 'https://i.scdn.co/image/ab218add1258b9dd40e6561f7aa0081e24979802',\n",
       "    'width': 160}],\n",
       "  'name': 'Odie',\n",
       "  'popularity': 0,\n",
       "  'type': 'artist',\n",
       "  'uri': 'spotify:artist:1MQKu3TbTXmVkZquWmFUjZ'},\n",
       " {'external_urls': {'spotify': 'https://open.spotify.com/artist/2R87AkS3B8jKjjINjmmLAB'},\n",
       "  'followers': {'href': None, 'total': 98},\n",
       "  'genres': [],\n",
       "  'href': 'https://api.spotify.com/v1/artists/2R87AkS3B8jKjjINjmmLAB',\n",
       "  'id': '2R87AkS3B8jKjjINjmmLAB',\n",
       "  'images': [{'height': 640,\n",
       "    'url': 'https://i.scdn.co/image/ab67616d0000b2730b650f18f828c99c22aee954',\n",
       "    'width': 640},\n",
       "   {'height': 300,\n",
       "    'url': 'https://i.scdn.co/image/ab67616d00001e020b650f18f828c99c22aee954',\n",
       "    'width': 300},\n",
       "   {'height': 64,\n",
       "    'url': 'https://i.scdn.co/image/ab67616d000048510b650f18f828c99c22aee954',\n",
       "    'width': 64}],\n",
       "  'name': 'Odiens',\n",
       "  'popularity': 0,\n",
       "  'type': 'artist',\n",
       "  'uri': 'spotify:artist:2R87AkS3B8jKjjINjmmLAB'},\n",
       " {'external_urls': {'spotify': 'https://open.spotify.com/artist/2SvkWs1xbaAtBRJrjnthiK'},\n",
       "  'followers': {'href': None, 'total': 5},\n",
       "  'genres': [],\n",
       "  'href': 'https://api.spotify.com/v1/artists/2SvkWs1xbaAtBRJrjnthiK',\n",
       "  'id': '2SvkWs1xbaAtBRJrjnthiK',\n",
       "  'images': [{'height': 640,\n",
       "    'url': 'https://i.scdn.co/image/ab67616d0000b273a53dd5573e5ac15b4218c20b',\n",
       "    'width': 640},\n",
       "   {'height': 300,\n",
       "    'url': 'https://i.scdn.co/image/ab67616d00001e02a53dd5573e5ac15b4218c20b',\n",
       "    'width': 300},\n",
       "   {'height': 64,\n",
       "    'url': 'https://i.scdn.co/image/ab67616d00004851a53dd5573e5ac15b4218c20b',\n",
       "    'width': 64}],\n",
       "  'name': 'Odie',\n",
       "  'popularity': 0,\n",
       "  'type': 'artist',\n",
       "  'uri': 'spotify:artist:2SvkWs1xbaAtBRJrjnthiK'},\n",
       " {'external_urls': {'spotify': 'https://open.spotify.com/artist/2oeFtoqqeiuDaX0SKYzuUY'},\n",
       "  'followers': {'href': None, 'total': 7},\n",
       "  'genres': [],\n",
       "  'href': 'https://api.spotify.com/v1/artists/2oeFtoqqeiuDaX0SKYzuUY',\n",
       "  'id': '2oeFtoqqeiuDaX0SKYzuUY',\n",
       "  'images': [{'height': 640,\n",
       "    'url': 'https://i.scdn.co/image/ab67616d0000b2737aa21afa82e8af94c4bb4381',\n",
       "    'width': 640},\n",
       "   {'height': 300,\n",
       "    'url': 'https://i.scdn.co/image/ab67616d00001e027aa21afa82e8af94c4bb4381',\n",
       "    'width': 300},\n",
       "   {'height': 64,\n",
       "    'url': 'https://i.scdn.co/image/ab67616d000048517aa21afa82e8af94c4bb4381',\n",
       "    'width': 64}],\n",
       "  'name': 'Odie27',\n",
       "  'popularity': 0,\n",
       "  'type': 'artist',\n",
       "  'uri': 'spotify:artist:2oeFtoqqeiuDaX0SKYzuUY'},\n",
       " {'external_urls': {'spotify': 'https://open.spotify.com/artist/3AB72XBhkozLmQo5TBCmCa'},\n",
       "  'followers': {'href': None, 'total': 0},\n",
       "  'genres': [],\n",
       "  'href': 'https://api.spotify.com/v1/artists/3AB72XBhkozLmQo5TBCmCa',\n",
       "  'id': '3AB72XBhkozLmQo5TBCmCa',\n",
       "  'images': [],\n",
       "  'name': 'Odie3',\n",
       "  'popularity': 0,\n",
       "  'type': 'artist',\n",
       "  'uri': 'spotify:artist:3AB72XBhkozLmQo5TBCmCa'},\n",
       " {'external_urls': {'spotify': 'https://open.spotify.com/artist/3ICPpaiuGwywSfq0DVDHc0'},\n",
       "  'followers': {'href': None, 'total': 11},\n",
       "  'genres': [],\n",
       "  'href': 'https://api.spotify.com/v1/artists/3ICPpaiuGwywSfq0DVDHc0',\n",
       "  'id': '3ICPpaiuGwywSfq0DVDHc0',\n",
       "  'images': [{'height': 640,\n",
       "    'url': 'https://i.scdn.co/image/8704be8cfabd5bb7cbb6b703da06f66fab4e73a1',\n",
       "    'width': 640},\n",
       "   {'height': 320,\n",
       "    'url': 'https://i.scdn.co/image/39cac98cb50800fb95187ef9f48f36aad2d21cf1',\n",
       "    'width': 320},\n",
       "   {'height': 160,\n",
       "    'url': 'https://i.scdn.co/image/6fb95cdf7c8d35eff9e3fec79e9537ec393be0bf',\n",
       "    'width': 160}],\n",
       "  'name': 'Odiee',\n",
       "  'popularity': 0,\n",
       "  'type': 'artist',\n",
       "  'uri': 'spotify:artist:3ICPpaiuGwywSfq0DVDHc0'},\n",
       " {'external_urls': {'spotify': 'https://open.spotify.com/artist/4COiVRwOzeN9Eg8tIztrLC'},\n",
       "  'followers': {'href': None, 'total': 15},\n",
       "  'genres': [],\n",
       "  'href': 'https://api.spotify.com/v1/artists/4COiVRwOzeN9Eg8tIztrLC',\n",
       "  'id': '4COiVRwOzeN9Eg8tIztrLC',\n",
       "  'images': [{'height': 640,\n",
       "    'url': 'https://i.scdn.co/image/ab67616d0000b273e284d28a29bbccace2b54ee8',\n",
       "    'width': 640},\n",
       "   {'height': 300,\n",
       "    'url': 'https://i.scdn.co/image/ab67616d00001e02e284d28a29bbccace2b54ee8',\n",
       "    'width': 300},\n",
       "   {'height': 64,\n",
       "    'url': 'https://i.scdn.co/image/ab67616d00004851e284d28a29bbccace2b54ee8',\n",
       "    'width': 64}],\n",
       "  'name': 'Odieguino',\n",
       "  'popularity': 0,\n",
       "  'type': 'artist',\n",
       "  'uri': 'spotify:artist:4COiVRwOzeN9Eg8tIztrLC'},\n",
       " {'external_urls': {'spotify': 'https://open.spotify.com/artist/4W2qVgyHUQ1mYtT4mzR0xj'},\n",
       "  'followers': {'href': None, 'total': 0},\n",
       "  'genres': [],\n",
       "  'href': 'https://api.spotify.com/v1/artists/4W2qVgyHUQ1mYtT4mzR0xj',\n",
       "  'id': '4W2qVgyHUQ1mYtT4mzR0xj',\n",
       "  'images': [{'height': 640,\n",
       "    'url': 'https://i.scdn.co/image/ab67616d0000b27350573f54c09bac09724b92d1',\n",
       "    'width': 640},\n",
       "   {'height': 300,\n",
       "    'url': 'https://i.scdn.co/image/ab67616d00001e0250573f54c09bac09724b92d1',\n",
       "    'width': 300},\n",
       "   {'height': 64,\n",
       "    'url': 'https://i.scdn.co/image/ab67616d0000485150573f54c09bac09724b92d1',\n",
       "    'width': 64}],\n",
       "  'name': 'OdieBandz',\n",
       "  'popularity': 0,\n",
       "  'type': 'artist',\n",
       "  'uri': 'spotify:artist:4W2qVgyHUQ1mYtT4mzR0xj'},\n",
       " {'external_urls': {'spotify': 'https://open.spotify.com/artist/4nWZIJHpbdZBtKTV1EicTt'},\n",
       "  'followers': {'href': None, 'total': 1},\n",
       "  'genres': [],\n",
       "  'href': 'https://api.spotify.com/v1/artists/4nWZIJHpbdZBtKTV1EicTt',\n",
       "  'id': '4nWZIJHpbdZBtKTV1EicTt',\n",
       "  'images': [],\n",
       "  'name': 'Odie',\n",
       "  'popularity': 0,\n",
       "  'type': 'artist',\n",
       "  'uri': 'spotify:artist:4nWZIJHpbdZBtKTV1EicTt'},\n",
       " {'external_urls': {'spotify': 'https://open.spotify.com/artist/4poNyzi0PRa98s64UOdfnr'},\n",
       "  'followers': {'href': None, 'total': 10},\n",
       "  'genres': [],\n",
       "  'href': 'https://api.spotify.com/v1/artists/4poNyzi0PRa98s64UOdfnr',\n",
       "  'id': '4poNyzi0PRa98s64UOdfnr',\n",
       "  'images': [{'height': 640,\n",
       "    'url': 'https://i.scdn.co/image/0b5a9afca2a23b690003acc3f1053155ced17411',\n",
       "    'width': 640},\n",
       "   {'height': 320,\n",
       "    'url': 'https://i.scdn.co/image/41a1a1c51e02449cac15c6d73657f2feb6de1ed6',\n",
       "    'width': 320},\n",
       "   {'height': 160,\n",
       "    'url': 'https://i.scdn.co/image/c8a8d8e28a964c4bcad78c8b65d6a5aa43a72142',\n",
       "    'width': 160}],\n",
       "  'name': 'odiegosix',\n",
       "  'popularity': 0,\n",
       "  'type': 'artist',\n",
       "  'uri': 'spotify:artist:4poNyzi0PRa98s64UOdfnr'}]"
      ]
     },
     "execution_count": 37,
     "metadata": {},
     "output_type": "execute_result"
    }
   ],
   "source": [
    "data['artists']['items']"
   ]
  },
  {
   "cell_type": "code",
   "execution_count": 38,
   "metadata": {},
   "outputs": [
    {
     "data": {
      "text/plain": [
       "dict_keys(['external_urls', 'followers', 'genres', 'href', 'id', 'images', 'name', 'popularity', 'type', 'uri'])"
      ]
     },
     "execution_count": 38,
     "metadata": {},
     "output_type": "execute_result"
    }
   ],
   "source": [
    "data['artists']['items'][0].keys()"
   ]
  },
  {
   "cell_type": "code",
   "execution_count": 39,
   "metadata": {},
   "outputs": [
    {
     "data": {
      "text/plain": [
       "{'external_urls': {'spotify': 'https://open.spotify.com/artist/5aMIbwZQvP2MHPMVC5zCGj'},\n",
       " 'followers': {'href': None, 'total': 97142},\n",
       " 'genres': ['alternative r&b', 'indie r&b', 'trap soul'],\n",
       " 'href': 'https://api.spotify.com/v1/artists/5aMIbwZQvP2MHPMVC5zCGj',\n",
       " 'id': '5aMIbwZQvP2MHPMVC5zCGj',\n",
       " 'images': [{'height': 640,\n",
       "   'url': 'https://i.scdn.co/image/a21c20c30b55b31aff3f6aa84a6e7156f25363e7',\n",
       "   'width': 640},\n",
       "  {'height': 320,\n",
       "   'url': 'https://i.scdn.co/image/5eb853d9fee81724eaaf271c71aec47315075a45',\n",
       "   'width': 320},\n",
       "  {'height': 160,\n",
       "   'url': 'https://i.scdn.co/image/1676164c39aafaea56ce7ab62b8e7bab64591d8e',\n",
       "   'width': 160}],\n",
       " 'name': 'ODIE',\n",
       " 'popularity': 64,\n",
       " 'type': 'artist',\n",
       " 'uri': 'spotify:artist:5aMIbwZQvP2MHPMVC5zCGj'}"
      ]
     },
     "execution_count": 39,
     "metadata": {},
     "output_type": "execute_result"
    }
   ],
   "source": [
    "data['artists']['items'][0]"
   ]
  },
  {
   "cell_type": "code",
   "execution_count": 40,
   "metadata": {},
   "outputs": [
    {
     "data": {
      "text/plain": [
       "{'external_urls': {'spotify': 'https://open.spotify.com/artist/1A9aTffrO3x44CEX13JGIc'},\n",
       " 'followers': {'href': None, 'total': 11},\n",
       " 'genres': [],\n",
       " 'href': 'https://api.spotify.com/v1/artists/1A9aTffrO3x44CEX13JGIc',\n",
       " 'id': '1A9aTffrO3x44CEX13JGIc',\n",
       " 'images': [],\n",
       " 'name': 'Odie Payne, Jr.',\n",
       " 'popularity': 30,\n",
       " 'type': 'artist',\n",
       " 'uri': 'spotify:artist:1A9aTffrO3x44CEX13JGIc'}"
      ]
     },
     "execution_count": 40,
     "metadata": {},
     "output_type": "execute_result"
    }
   ],
   "source": [
    "data['artists']['items'][2]"
   ]
  },
  {
   "cell_type": "code",
   "execution_count": 41,
   "metadata": {},
   "outputs": [
    {
     "name": "stdout",
     "output_type": "stream",
     "text": [
      "ODIE\n",
      "\n",
      "https://open.spotify.com/artist/5aMIbwZQvP2MHPMVC5zCGj\n",
      "\n",
      "{'height': 640, 'url': 'https://i.scdn.co/image/a21c20c30b55b31aff3f6aa84a6e7156f25363e7', 'width': 640}\n",
      "\n",
      "97142\n",
      "\n",
      "['alternative r&b', 'indie r&b', 'trap soul']\n",
      "\n",
      "Callie Odie\n",
      "\n",
      "https://open.spotify.com/artist/1XZRepVs1NXhC3ITI79j7m\n",
      "\n",
      "{'height': 640, 'url': 'https://i.scdn.co/image/ab67616d0000b273e41891392874de04512aefa5', 'width': 640}\n",
      "\n",
      "0\n",
      "\n",
      "[]\n",
      "\n",
      "Odie Payne, Jr.\n",
      "\n",
      "https://open.spotify.com/artist/1A9aTffrO3x44CEX13JGIc\n",
      "\n",
      "no image\n",
      "\n",
      "11\n",
      "\n",
      "[]\n",
      "\n",
      "Odie Payne III\n",
      "\n",
      "https://open.spotify.com/artist/4tcSBbry63txTgC08PNmou\n",
      "\n",
      "no image\n",
      "\n",
      "4\n",
      "\n",
      "[]\n",
      "\n",
      "Odie Ray\n",
      "\n",
      "https://open.spotify.com/artist/5u7TFvIcykj1uOylQZmbhA\n",
      "\n",
      "{'height': 640, 'url': 'https://i.scdn.co/image/ce829db43b794e3233582c05cf62581b7c1b2cea', 'width': 640}\n",
      "\n",
      "42\n",
      "\n",
      "[]\n",
      "\n",
      "Odiemagee\n",
      "\n",
      "https://open.spotify.com/artist/47EdZXpOvhXQ6S8ZasUAtr\n",
      "\n",
      "{'height': 640, 'url': 'https://i.scdn.co/image/b7d67dbb45b4b4158763762e7e473ecc22f19760', 'width': 640}\n",
      "\n",
      "24\n",
      "\n",
      "[]\n",
      "\n",
      "Odie Maddox\n",
      "\n",
      "https://open.spotify.com/artist/18NBNlPVviqCFDrkEtRqBs\n",
      "\n",
      "{'height': 640, 'url': 'https://i.scdn.co/image/02a45d50bffe1d9bb9a4930c30d06a675456a013', 'width': 640}\n",
      "\n",
      "119\n",
      "\n",
      "[]\n",
      "\n",
      "Odie Billz\n",
      "\n",
      "https://open.spotify.com/artist/2E6ohEvDWtltLSvIpTqWSt\n",
      "\n",
      "no image\n",
      "\n",
      "4\n",
      "\n",
      "[]\n",
      "\n",
      "Odie B\n",
      "\n",
      "https://open.spotify.com/artist/2wIrceYpezIwnSeTHFciiw\n",
      "\n",
      "no image\n",
      "\n",
      "4\n",
      "\n",
      "[]\n",
      "\n",
      "OdieDaGoat\n",
      "\n",
      "https://open.spotify.com/artist/0K4Y7iF6nhE3SgaKkWbyyG\n",
      "\n",
      "{'height': 640, 'url': 'https://i.scdn.co/image/ab67616d0000b273fef83b768d364c679b18e116', 'width': 640}\n",
      "\n",
      "4\n",
      "\n",
      "[]\n",
      "\n",
      "Odie\n",
      "\n",
      "https://open.spotify.com/artist/1MQKu3TbTXmVkZquWmFUjZ\n",
      "\n",
      "{'height': 640, 'url': 'https://i.scdn.co/image/7d702ea635584adb7664eb504c32128fa9d340f6', 'width': 640}\n",
      "\n",
      "2\n",
      "\n",
      "[]\n",
      "\n",
      "Odiens\n",
      "\n",
      "https://open.spotify.com/artist/2R87AkS3B8jKjjINjmmLAB\n",
      "\n",
      "{'height': 640, 'url': 'https://i.scdn.co/image/ab67616d0000b2730b650f18f828c99c22aee954', 'width': 640}\n",
      "\n",
      "98\n",
      "\n",
      "[]\n",
      "\n",
      "Odie\n",
      "\n",
      "https://open.spotify.com/artist/2SvkWs1xbaAtBRJrjnthiK\n",
      "\n",
      "{'height': 640, 'url': 'https://i.scdn.co/image/ab67616d0000b273a53dd5573e5ac15b4218c20b', 'width': 640}\n",
      "\n",
      "5\n",
      "\n",
      "[]\n",
      "\n",
      "Odie27\n",
      "\n",
      "https://open.spotify.com/artist/2oeFtoqqeiuDaX0SKYzuUY\n",
      "\n",
      "{'height': 640, 'url': 'https://i.scdn.co/image/ab67616d0000b2737aa21afa82e8af94c4bb4381', 'width': 640}\n",
      "\n",
      "7\n",
      "\n",
      "[]\n",
      "\n",
      "Odie3\n",
      "\n",
      "https://open.spotify.com/artist/3AB72XBhkozLmQo5TBCmCa\n",
      "\n",
      "no image\n",
      "\n",
      "0\n",
      "\n",
      "[]\n",
      "\n",
      "Odiee\n",
      "\n",
      "https://open.spotify.com/artist/3ICPpaiuGwywSfq0DVDHc0\n",
      "\n",
      "{'height': 640, 'url': 'https://i.scdn.co/image/8704be8cfabd5bb7cbb6b703da06f66fab4e73a1', 'width': 640}\n",
      "\n",
      "11\n",
      "\n",
      "[]\n",
      "\n",
      "Odieguino\n",
      "\n",
      "https://open.spotify.com/artist/4COiVRwOzeN9Eg8tIztrLC\n",
      "\n",
      "{'height': 640, 'url': 'https://i.scdn.co/image/ab67616d0000b273e284d28a29bbccace2b54ee8', 'width': 640}\n",
      "\n",
      "15\n",
      "\n",
      "[]\n",
      "\n",
      "OdieBandz\n",
      "\n",
      "https://open.spotify.com/artist/4W2qVgyHUQ1mYtT4mzR0xj\n",
      "\n",
      "{'height': 640, 'url': 'https://i.scdn.co/image/ab67616d0000b27350573f54c09bac09724b92d1', 'width': 640}\n",
      "\n",
      "0\n",
      "\n",
      "[]\n",
      "\n",
      "Odie\n",
      "\n",
      "https://open.spotify.com/artist/4nWZIJHpbdZBtKTV1EicTt\n",
      "\n",
      "no image\n",
      "\n",
      "1\n",
      "\n",
      "[]\n",
      "\n",
      "odiegosix\n",
      "\n",
      "https://open.spotify.com/artist/4poNyzi0PRa98s64UOdfnr\n",
      "\n",
      "{'height': 640, 'url': 'https://i.scdn.co/image/0b5a9afca2a23b690003acc3f1053155ced17411', 'width': 640}\n",
      "\n",
      "10\n",
      "\n",
      "[]\n",
      "\n"
     ]
    }
   ],
   "source": [
    "for item in data['artists']['items']:\n",
    "    print(item['name'])\n",
    "    print()\n",
    "    print(item['external_urls']['spotify'])\n",
    "    print()\n",
    "    if len(item['images']) > 0:\n",
    "        print(item['images'][0])\n",
    "    else:\n",
    "        print('no image')\n",
    "    print()\n",
    "    print(item['followers']['total'])\n",
    "    print()\n",
    "    print(item['genres'])\n",
    "    print()"
   ]
  }
 ],
 "metadata": {
  "kernelspec": {
   "display_name": "Python 3",
   "language": "python",
   "name": "python3"
  },
  "language_info": {
   "codemirror_mode": {
    "name": "ipython",
    "version": 3
   },
   "file_extension": ".py",
   "mimetype": "text/x-python",
   "name": "python",
   "nbconvert_exporter": "python",
   "pygments_lexer": "ipython3",
   "version": "3.7.7"
  }
 },
 "nbformat": 4,
 "nbformat_minor": 4
}
